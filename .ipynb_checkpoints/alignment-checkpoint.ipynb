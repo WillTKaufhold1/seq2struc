{
 "cells": [
  {
   "cell_type": "markdown",
   "metadata": {},
   "source": [
    "<h4> Monte Carlo with string optimizer </h4>"
   ]
  },
  {
   "cell_type": "code",
   "execution_count": 48,
   "metadata": {},
   "outputs": [],
   "source": [
    "import numpy as np\n",
    "import pandas as pd\n",
    "import matplotlib.pyplot as plt\n",
    "%matplotlib inline\n",
    "from functools import reduce\n",
    "from copy import copy\n",
    "from difflib import SequenceMatcher\n",
    "\n",
    "def get_rev_comp(seq):\n",
    "    return reduce(lambda A,B : A + B, list(map(\n",
    "                    lambda x : {\n",
    "                                'a':'T',\n",
    "                                't':'A',\n",
    "                                'g':'C',\n",
    "                                'c':'G',\n",
    "                                'A':'T',\n",
    "                                'T':'A',\n",
    "                                'G':'C',\n",
    "                                'C':'G'}[x], seq[::-1])), '')\n",
    "\n",
    "def get_data():\n",
    "\n",
    "    with open('./rothemund-rectangle/scaffold_m13mp18') as f: scaf = f.read().replace(' ','').replace('\\n','')\n",
    "    all_staples = pd.read_csv('./rothemund-rectangle/base_sequences.csv')\n",
    "    stap = list(all_staples['Sequence'])\n",
    "\n",
    "    rev_comp_scaf = get_rev_comp(scaf)\n",
    "\n",
    "    sc = rev_comp_scaf\n",
    "    \n",
    "    return sc,stap"
   ]
  },
  {
   "cell_type": "code",
   "execution_count": 49,
   "metadata": {},
   "outputs": [],
   "source": [
    "def get_match(sc,st):\n",
    "    seqMatch = SequenceMatcher(None,sc,st,autojunk=False)   \n",
    "    match = seqMatch.find_longest_match(0, len(sc), 0, len(st))\n",
    "    return match\n",
    "\n",
    "def replace_stap_by_dots(st,match):\n",
    "    st2 = \"\"\n",
    "    for i in range(len(st)):\n",
    "        if i in list(range(match.b, match.b+match.size)):\n",
    "            st2 += \".\"\n",
    "        else:\n",
    "            st2 += st[i]\n",
    "    return st2\n",
    "\n",
    "def replace_scaf_by_dots(sc,match):\n",
    "    sc2 = \"\"\n",
    "    for i in range(len(sc)):\n",
    "        if i in list(range(match.a, match.a+match.size)):\n",
    "            sc2 += \".\"\n",
    "        else:\n",
    "            sc2 += sc[i]\n",
    "    return sc2"
   ]
  },
  {
   "cell_type": "code",
   "execution_count": 50,
   "metadata": {},
   "outputs": [],
   "source": [
    "def get_prob_accept(N_bonds,beta):\n",
    "    #premise:\n",
    "    #every contiguous domain should be favoured by the bonds, and disfavored \n",
    "    #by both the translational reduction of entropy and the strain of a crossover\n",
    "    #since we know the staple ends up being included, we can ignore the translational cost.\n",
    "    #and instead we can just include a cost per base\n",
    "    BIAS = 3 # i've decided to say that this cost is entropic.\n",
    "    return np.exp(-(N_bonds)*beta+BIAS)\n",
    "\n",
    "def do_i_accept(N_bonds,beta):\n",
    "    prob = get_prob_accept(N_bonds,beta)\n",
    "    return np.random.rand() < prob"
   ]
  },
  {
   "cell_type": "code",
   "execution_count": 55,
   "metadata": {},
   "outputs": [],
   "source": [
    "all_matches = []\n",
    "sc,stap = get_data()\n",
    "\n",
    "sc_init = copy(sc)\n",
    "stap_init = copy(stap)"
   ]
  },
  {
   "cell_type": "code",
   "execution_count": 56,
   "metadata": {},
   "outputs": [],
   "source": [
    "class State():\n",
    "    def __init__(self,scaffold,staples):\n",
    "        self.scaffold = scaffold\n",
    "        self.staples  = staples   \n",
    "        self.matches  = []"
   ]
  },
  {
   "cell_type": "code",
   "execution_count": 57,
   "metadata": {},
   "outputs": [],
   "source": [
    "sc2 = copy(sc)\n",
    "energy = []\n",
    "\n",
    "for st in stap:\n",
    "\n",
    "    matches = []\n",
    "    match = get_match(sc2,st)\n",
    "    \n",
    "    sc2 = replace_scaf_by_dots(sc2,match)\n",
    "    \n",
    "    local_matches.append(match)     \n",
    "    all_matches.append(local_matches)"
   ]
  },
  {
   "cell_type": "code",
   "execution_count": 60,
   "metadata": {},
   "outputs": [
    {
     "data": {
      "text/plain": [
       "'AACATCCAATAAATCAT................ATTAGCAAAATTAAG................CATAAAGCTAAATCGG................ATGACCCTGTAATACTTTTGCGGGAGAAGCCTTTATTTCAACGCAA................AACCCTCATATATTTT...............GTAATGTGTAGGTAAA.................AAGGCCGGAGACAG................ATGATATTCAACCGTT.................GCCGGAGAGGGTAG................TACAAAGGCTATCAG................CTGGAGCAAACAAGAG...............ATCGTAAAACTAGCATGTCAATCATATGTACCCCGGTTGATAATCA.................GGAAGATTGTATAAGC...............AAACGTTAATATTTTG...........GTTAAATTTTTGTTAAATC.................ATAGGAACGCCATCA................GGCCTTCCTGTAGCCA................AATGTGAGCGAGTAA................CCGTGGGAACAAACG................GGGATAGGTTACGTTGGTGTAGATGGGCGCATCGTAACCGTGCATC.................GACGACCGTATCGGCC...............TCCAGCCAGCTTTCCG................CGGAAACCAGGCAAA.................GGCTGCGCAACTGTTGGGAAGGGCGATCGGTGCGGGCCTCTTCGCT................AAAGGGGGATGTGCTGCAAGGCGATTAAGTTGGGTAACGCCAGGGT................TTGTAAAACGACGGCCAGTGCCAAGCTTGCATGCCTGCAGGTCGACT................TACCGAGCTCGAAT.................GCTGTTTCCTGTGTG.................CAATTCCACACAACA.................AAGTGTAAAGCCTGGGGTGCCTAATGAGTGAGCTAACTCACATTA.................GCCCGCTTTCCAGTCGGGAAACCTGTCGTGCCAGCTGCATTAATGAA.................AGAGGCGGTTTGCGTATTGGGCGCCAGGGTGGTTTTTCTTTTCACCAGC............AGCTGATTGCCCTTC................AGAGTTGCAGCAAGCG................CCCAGCAGGCGA...................TTCCGAAATCGGC...................AAGAATAGCCCGAGA................TCCAGTTTGGAACA.................AACGTGGACTCCAACG.................GTCTATCAGGGCGATGGCCCACTACGTGAACCATCACC.......................GGTGCCGT.......................AGGGAGCC.........................GCCGGCG.......................GAAAGCGAAAGGAGCGGGCGCTAGGGCGCTGGCAAGTGTAGCGGTCACGCTGCGCGTAACCACCACACCCGCCGCGCTTAATGCGCCGCTACAGGGCGCGTACTATGGTTGCTTTGACGAGCACGTATAACGTGCTTTCCTCGTTGGAATCAGAGCGGGAGCTAAACAGGAGGCCGATTAAAGGGATTTTAGACAGGAACGGTACGCCAGAATCTTGAGAAGTGTTTTTATAATCAGTGAGGCCACCGAGTAAAAGAGTCTGTCCATCACGCAAATTAACCGTTGTAGCAATACTTCTTTGATTAGTAATAACATCACTTGCCTGAGTAGAAGAACTCAAACTATCGGCCTTGCTGGTAATATCCAGAACAATATTACCGCCAGCCATTGCAACAGGAAAAACGCTCATGGAAATACCTACATTTTGACGCTCAATCGTCTGAAATGGATTATTTACATTGGCAGATTCACCAGTCACACGACCAGTAA.......................GAGATAGA.........................ATACGTG.......................CTATTAGT........................TAAAACATCGCCATTAAAAATACCGAACGAACCACCAGCAGAAGAT................GGTCAGTATTAACACC................CGCTGAGAGCCAGC.................AAGCATCACCTTGCT................ACCCTCAATCAATATC...............TCAACAGTAGAAAGG.................TAAAATATCTTTAGGT...............AGATTAGAGCCGTCAA...............AGGATTTAGAAGTATTAGACTTTACAAACAATTCGACAACTCGTATTAAATCCTTTGCCCGAACGTTATTAATTTTAAA...............ATCATTTT........AAGAAACCACCAGAAGGAGCGGAATTATCAT.................GATGATGGCAATTCA...............TTGTTTGGATTATACTTCTGAATTATGGAAGGAATTGAACCAACCAT............AGCACGTAAAACAGAAATAA...............TTTCAGGTTTAACGTCAGATGAATATACAGTAACAGTACCTTTTACATCGGGAGAAACAATAACGGATTCGCCTGATTG...............TACAAAATCGCGCAGAGGCGAATTATTCATTTCAATTACCTGAGCA..................AACATCAAGAAAAC................AACAATTTCATTTGA.................AAACAGTACATAAAT...............................................ATTAATTTTCCCTTAGAATCCTTGAAAACATAGCGATAGCTTAGATTAAGACGCTGAGAAGAGTCAATAGTGAATTT.................GAGAGACTACCTTTT.................TGGGTTATATAACTA................CAAATCCAATCGCAAG................AACTTTTTCAAATA..................CTTCTGACCTAA..................CCGACCGTGTGATAAA...............GAATAAACACCGGAATCATAATTACTAGAAAAAGCCTGTTTAGTATC................TTCTTACCAGTATAAA................AGGGCTTAATTGAG..................CGCCAACATGTAAT................TCGAGCCAGTAATAAG...............GACAAAAGGTAAAGT.................GACAATAAACAACAT................ACGCGCCTGTTTATCA...............TGAACAAGAAAAATAATATCCCATCCTAATTTACGAGCATGTAG...................TGTCTTTCCTTATCAT...............TAAACCAAGTACCGCA................AAGCCGTTTTTATTT................TACCGCGCCCAATAGC...............AGAAGGCTTATCCGGT................GCGTTTTAGCGAACC................GTTTTGAAGCCTT..................ATTTTGCACCCAGCTACAATTTTATCCTGAATCTTACCAACGCTAAC................CCTAATTTGCCAGTT................TATTATTTATCCCAAT................TTTTTGTTTAACGTC................GCCTTTACAGAGAGAA...............GAAGCGCATTAGACGG................CCCTGAACAAAGTC..................AATATCAGAGAGATA...............GTTAAGCCCAATAATAAGAGCAAGAAACAATGAAATAGCAATAGCT..................TTAAGAAAAGTAAGC...............GTTACCAGAAGGAA..................TAACGGAATACCCAA................AAGACTCCTTATTACG...............CGTAGAAAATACAT..................ATAAAAGAAACGCAA................GTTTATTTTGTCACA................TATGGTTTACCAGCGCTAAAGACAAAAGGGCGACATTCAACCGATTGAGGGAGGGAAGGTAAATATTGACGGAAATTA................TATCACCGTCACCGACTTGAGCCATTTGGGAATTAGAGCCAGCAAAA................TACCATTAGCAAGGCC.................AACCATCGATAGCA.................GACAGAATCAAGT..................TGTAGCGCGTTTTCA..................GCCCCCTTATTAGCGTTTGCCATCTTTTCATAATCAAAATCACCGGAACCAGAGCCACCACCGGAACCGCCTCCCT................AGAACCGCCACCCTCAGAGCCACCACCCTCAGAGCCGCCACCAGAA................CGCCAGCATTGACAGG................GACGATTGGCCTTGA...........GAATGGATCTTCATTAAAGC..................CTCTGAATTTACCG...............TACATGGCTTTTGATGATACAGGAGTGTACTGGTAATAAGTTTTAAC..................AACAGTGCCCGTAT...............CCTGCCTATTTCGG...................TGAAAGTATTAAGA................GAGAAGGATTAGGATT...............AGTACCAGGCGGAT..................TGATATAAGTATAGC.................CCGTACTCAGGAGGT...............TCAGAACCGCCACCCTCAGAACCGCCACCCTCAGAGCCA.........................GCCCAAT.......................GAGTTTCG........................GTAGCATTCCACAGACAA.............................................ACGTTAG.....................GTTTTGCTAA........................GTGAGAAT.......................GCGAATAATAATTTTTTCACGTTGAAAATCTCCAAAAAAAAAGGCTC.................TGTATCGGTTTATCAG...............AATTTCTTAAACAGCT.................CCGACAATGACAAC................TAACCGATATATTCGG...............GGGAGTTAAAGGCCGC................CCCTCAGCAGCGAAA................GGGTAGCAACGGCTA................TAAAGACTTTTTCATGAGGAAGTTTCCATTAAACGGGTAAAATACG.................CACCAACCTAAAACGAAAGAGGCGAAAGAATACACTAAAACACTCA.................TTATACCAAGCGCGA................GATTTGTATCATCGCCTGATAAATTGTGTCGAAATCCGCGACCTGC.................GAACGAGGCGCAGACGGTCAATCATAAGGGAACCGAACTGACCAAC................TGAACGGTGTACAGACCAGGCGCATAGGCTGGCTGACCTTCATCAAG....................GATATTCATTAC...............AAAGCTGCTCATTCAG................TGACGAGAACACCA................GGGCTTGAGATGGTTTAATTTCAACTTTAATCATTGTGAATTACCTT................TGGCTCATTATACCAGTCAGGACGTTGGGAAGAAAAATCTACGTTAA...............GAACAACATTATTACAGGTAGAAAGATTCATCAGTTGAGATTTAGGA...............................................AGGCATAGTAAGAGC................................................GCGAGAGGCTTTT.........GTTTTGCCAGAGGGGGTAATAGTA...................CGTCCAATACTGCGGAATCGTCATAAATATTCATTGAATCCCCCT...............GTTCAGAAAACGAGAATGACCATAAATCAAAAATCAGGTCTTTACCC................AAGCAAAGCGGATTGC.................GAAGCCCGAAAGAC................TAATTCGAGCTTCAA................AGCAAACTCCAACAGG...............ACCTTTAATTGCTCCT................TTTTGCGGATGGCTT.................TCTGGTGCTGTAGCT...............ATGCAACTAAAGTACGGTGTCTGGAAGTTTCATTCCATGTAACAGTT.................ACGAGTAGATTTAGT...............ATTTCGCAAATGGTCA................TATTTTCATTTGGGG................GGCATCAATTCTACTA..............'"
      ]
     },
     "execution_count": 60,
     "metadata": {},
     "output_type": "execute_result"
    }
   ],
   "source": [
    "sc2"
   ]
  },
  {
   "cell_type": "code",
   "execution_count": null,
   "metadata": {},
   "outputs": [],
   "source": []
  },
  {
   "cell_type": "code",
   "execution_count": null,
   "metadata": {},
   "outputs": [],
   "source": []
  },
  {
   "cell_type": "code",
   "execution_count": null,
   "metadata": {},
   "outputs": [],
   "source": []
  },
  {
   "cell_type": "code",
   "execution_count": null,
   "metadata": {},
   "outputs": [],
   "source": []
  },
  {
   "cell_type": "code",
   "execution_count": null,
   "metadata": {},
   "outputs": [],
   "source": []
  },
  {
   "cell_type": "code",
   "execution_count": null,
   "metadata": {},
   "outputs": [],
   "source": []
  },
  {
   "cell_type": "code",
   "execution_count": null,
   "metadata": {},
   "outputs": [],
   "source": []
  },
  {
   "cell_type": "code",
   "execution_count": null,
   "metadata": {},
   "outputs": [],
   "source": []
  },
  {
   "cell_type": "code",
   "execution_count": null,
   "metadata": {},
   "outputs": [],
   "source": []
  },
  {
   "cell_type": "code",
   "execution_count": null,
   "metadata": {},
   "outputs": [],
   "source": []
  },
  {
   "cell_type": "code",
   "execution_count": null,
   "metadata": {},
   "outputs": [],
   "source": []
  },
  {
   "cell_type": "code",
   "execution_count": null,
   "metadata": {},
   "outputs": [],
   "source": []
  }
 ],
 "metadata": {
  "kernelspec": {
   "display_name": "Python 3",
   "language": "python",
   "name": "python3"
  },
  "language_info": {
   "codemirror_mode": {
    "name": "ipython",
    "version": 3
   },
   "file_extension": ".py",
   "mimetype": "text/x-python",
   "name": "python",
   "nbconvert_exporter": "python",
   "pygments_lexer": "ipython3",
   "version": "3.7.5"
  }
 },
 "nbformat": 4,
 "nbformat_minor": 2
}
