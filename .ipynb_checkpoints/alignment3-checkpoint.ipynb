{
 "cells": [
  {
   "cell_type": "markdown",
   "metadata": {},
   "source": [
    "<h4> Monte Carlo with string optimizer </h4>"
   ]
  },
  {
   "cell_type": "code",
   "execution_count": 81,
   "metadata": {},
   "outputs": [],
   "source": [
    "import numpy as np\n",
    "import pandas as pd\n",
    "import matplotlib.pyplot as plt\n",
    "%matplotlib inline\n",
    "from functools import reduce\n",
    "from copy import copy\n",
    "from difflib import SequenceMatcher\n",
    "\n",
    "def get_rev_comp(seq):\n",
    "    return reduce(lambda A,B : A + B, list(map(\n",
    "                    lambda x : {\n",
    "                                'a':'T',\n",
    "                                't':'A',\n",
    "                                'g':'C',\n",
    "                                'c':'G',\n",
    "                                'A':'T',\n",
    "                                'T':'A',\n",
    "                                'G':'C',\n",
    "                                'C':'G'}[x], seq[::-1])), '')\n",
    "\n",
    "def get_data():\n",
    "\n",
    "    with open('./rothemund-rectangle/scaffold_m13mp18') as f: scaf = f.read().replace(' ','').replace('\\n','')\n",
    "    all_staples = pd.read_csv('./rothemund-rectangle/base_sequences.csv')\n",
    "    stap = list(all_staples['Sequence'])\n",
    "\n",
    "    rev_comp_scaf = get_rev_comp(scaf)\n",
    "\n",
    "    sc = rev_comp_scaf\n",
    "    \n",
    "    return sc,stap"
   ]
  },
  {
   "cell_type": "code",
   "execution_count": 95,
   "metadata": {},
   "outputs": [],
   "source": [
    "#association dict?"
   ]
  },
  {
   "cell_type": "code",
   "execution_count": 96,
   "metadata": {},
   "outputs": [],
   "source": [
    "sc, stap = get_data()"
   ]
  },
  {
   "cell_type": "code",
   "execution_count": 114,
   "metadata": {},
   "outputs": [],
   "source": [
    "def get_binding_regions(N_BOUND):\n",
    "\n",
    "    SCAF_BINDING_REGIONS = []\n",
    "\n",
    "    for i in range(len(sc)-N_BOUND):\n",
    "        SCAF_BINDING_REGIONS.append(sc[i:i+N_BOUND])\n",
    "\n",
    "    SCAF_BINDING_REGIONS = np.array(SCAF_BINDING_REGIONS)\n",
    "\n",
    "    STAP_BINDING_REGIONS = []\n",
    "\n",
    "    for i in stap:\n",
    "        tmp_list = []\n",
    "        for j in range(len(i)-N_BOUND):\n",
    "            tmp_list.append(i[j:(j+N_BOUND)])\n",
    "        STAP_BINDING_REGIONS.append(copy(tmp_list))\n",
    "    WHERE = []\n",
    "\n",
    "    for i in STAP_BINDING_REGIONS:\n",
    "        tmp = []\n",
    "        for j in i:\n",
    "            SCAF_BINDING_REGIONS == j\n",
    "            tmp.append(np.where(SCAF_BINDING_REGIONS == j))\n",
    "\n",
    "        WHERE.append(tmp)\n",
    "    return WHERE"
   ]
  },
  {
   "cell_type": "code",
   "execution_count": 119,
   "metadata": {},
   "outputs": [
    {
     "name": "stdout",
     "output_type": "stream",
     "text": [
      "1\n",
      "2\n",
      "3\n",
      "4\n",
      "5\n",
      "6\n",
      "7\n",
      "8\n",
      "9\n",
      "10\n",
      "11\n",
      "12\n",
      "13\n",
      "14\n",
      "15\n",
      "16\n",
      "17\n",
      "18\n",
      "19\n"
     ]
    }
   ],
   "source": [
    "ALL_BINDING_REGIONS = {}\n",
    "\n",
    "for i in range(1,20):\n",
    "    print (i)\n",
    "    ALL_BINDING_REGIONS[i] = get_binding_regions(i)"
   ]
  },
  {
   "cell_type": "code",
   "execution_count": null,
   "metadata": {},
   "outputs": [],
   "source": [
    "#cluster move."
   ]
  },
  {
   "cell_type": "code",
   "execution_count": null,
   "metadata": {},
   "outputs": [],
   "source": []
  },
  {
   "cell_type": "code",
   "execution_count": null,
   "metadata": {},
   "outputs": [],
   "source": []
  },
  {
   "cell_type": "code",
   "execution_count": null,
   "metadata": {},
   "outputs": [],
   "source": []
  }
 ],
 "metadata": {
  "kernelspec": {
   "display_name": "Python 3",
   "language": "python",
   "name": "python3"
  },
  "language_info": {
   "codemirror_mode": {
    "name": "ipython",
    "version": 3
   },
   "file_extension": ".py",
   "mimetype": "text/x-python",
   "name": "python",
   "nbconvert_exporter": "python",
   "pygments_lexer": "ipython3",
   "version": "3.7.5"
  }
 },
 "nbformat": 4,
 "nbformat_minor": 2
}
