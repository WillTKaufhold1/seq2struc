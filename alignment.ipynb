{
 "cells": [
  {
   "cell_type": "code",
   "execution_count": 1,
   "metadata": {},
   "outputs": [],
   "source": [
    "import numpy as np\n",
    "import pandas as pd\n",
    "import matplotlib.pyplot as plt\n",
    "%matplotlib inline\n",
    "from functools import reduce\n",
    "from Bio import pairwise2\n",
    "from Bio.Seq import Seq"
   ]
  },
  {
   "cell_type": "code",
   "execution_count": 2,
   "metadata": {},
   "outputs": [],
   "source": [
    "def get_rev_comp(seq):\n",
    "    return reduce(lambda A,B : A + B, list(map(lambda x : {'A':'T',\n",
    "                                'T':'A',\n",
    "                                'G':'C',\n",
    "                                'C':'G'}[x], seq[::-1])), '')"
   ]
  },
  {
   "cell_type": "code",
   "execution_count": 3,
   "metadata": {},
   "outputs": [],
   "source": [
    "with open('./8064-hinge-staples/scaffold_8064') as f: scaf = f.read().replace('\\n','')\n",
    "all_staples = pd.read_csv('./8064-hinge-staples/hinge-staples.csv')\n",
    "stap = list(all_staples['Seq'])"
   ]
  },
  {
   "cell_type": "code",
   "execution_count": 4,
   "metadata": {},
   "outputs": [],
   "source": [
    "rev_comp_scaf = get_rev_comp(scaf)"
   ]
  },
  {
   "cell_type": "code",
   "execution_count": 42,
   "metadata": {},
   "outputs": [],
   "source": [
    "sc = rev_comp_scaf\n",
    "st = stap[0]"
   ]
  },
  {
   "cell_type": "code",
   "execution_count": 43,
   "metadata": {},
   "outputs": [],
   "source": [
    "#I want to look for the longest continuous sequence."
   ]
  },
  {
   "cell_type": "code",
   "execution_count": 44,
   "metadata": {},
   "outputs": [],
   "source": [
    "#longest common substring."
   ]
  },
  {
   "cell_type": "code",
   "execution_count": 45,
   "metadata": {},
   "outputs": [],
   "source": [
    "#then remove\n",
    "#then longest common substring.\n",
    "#use generalized suffix tree."
   ]
  },
  {
   "cell_type": "code",
   "execution_count": 46,
   "metadata": {},
   "outputs": [],
   "source": [
    "#radix tree?"
   ]
  },
  {
   "cell_type": "code",
   "execution_count": 47,
   "metadata": {},
   "outputs": [],
   "source": [
    "#csuffixtree"
   ]
  },
  {
   "cell_type": "code",
   "execution_count": 48,
   "metadata": {},
   "outputs": [
    {
     "name": "stdout",
     "output_type": "stream",
     "text": [
      "['123', '321']\n",
      "['abc', 'abcd']\n"
     ]
    }
   ],
   "source": [
    "from suffixtree import *\n",
    "tree = SuffixTree(True,[\"abc\",\"123\",\"321\"])\n",
    "tree.addStrings([\"xyz\",\"abcd\"])\n",
    "print(tree.findString(\"1\"))\n",
    "print(tree.findString(\"a\"))"
   ]
  },
  {
   "cell_type": "code",
   "execution_count": 49,
   "metadata": {},
   "outputs": [],
   "source": [
    "# pylcs"
   ]
  },
  {
   "cell_type": "code",
   "execution_count": 50,
   "metadata": {},
   "outputs": [],
   "source": [
    "import pylcs"
   ]
  },
  {
   "cell_type": "code",
   "execution_count": 51,
   "metadata": {},
   "outputs": [
    {
     "data": {
      "text/plain": [
       "14"
      ]
     },
     "execution_count": 51,
     "metadata": {},
     "output_type": "execute_result"
    }
   ],
   "source": [
    "A = 'We are shannonai'\n",
    "B = 'We like shannonai'\n",
    "pylcs.lcs(A, B)"
   ]
  },
  {
   "cell_type": "code",
   "execution_count": 57,
   "metadata": {},
   "outputs": [
    {
     "name": "stdout",
     "output_type": "stream",
     "text": [
      "0.6333333333333333\n",
      "0.475\n",
      "0.29411764705882354\n",
      "0.5454545454545454\n",
      "0.5\n",
      "0.5777777777777777\n",
      "0.32075471698113206\n",
      "0.5\n",
      "0.5\n",
      "0.5\n",
      "0.34782608695652173\n",
      "0.5128205128205128\n",
      "0.5172413793103449\n",
      "0.40384615384615385\n",
      "0.4\n",
      "0.3191489361702128\n",
      "0.4489795918367347\n",
      "0.2564102564102564\n",
      "0.3404255319148936\n",
      "0.6666666666666666\n",
      "0.3404255319148936\n",
      "0.25\n",
      "0.38461538461538464\n",
      "0.4358974358974359\n",
      "0.8695652173913043\n",
      "0.5333333333333333\n",
      "0.6923076923076923\n",
      "0.32075471698113206\n",
      "0.7142857142857143\n",
      "0.3898305084745763\n",
      "0.45454545454545453\n",
      "0.6\n",
      "0.5142857142857142\n",
      "0.32727272727272727\n",
      "0.4716981132075472\n",
      "0.7142857142857143\n",
      "0.32075471698113206\n",
      "0.48148148148148145\n",
      "0.4878048780487805\n",
      "0.4857142857142857\n",
      "0.42857142857142855\n",
      "0.34782608695652173\n",
      "0.5576923076923077\n",
      "0.7317073170731707\n",
      "0.6\n",
      "0.4782608695652174\n",
      "0.8461538461538461\n",
      "0.75\n",
      "0.3333333333333333\n",
      "0.5142857142857142\n",
      "0.4146341463414634\n",
      "0.45\n",
      "0.37777777777777777\n",
      "0.375\n",
      "0.4722222222222222\n",
      "0.36363636363636365\n",
      "0.5142857142857142\n",
      "0.5151515151515151\n",
      "0.5483870967741935\n",
      "0.8181818181818182\n",
      "0.41025641025641024\n",
      "0.9285714285714286\n",
      "0.36363636363636365\n",
      "0.5277777777777778\n",
      "0.5813953488372093\n",
      "0.423728813559322\n",
      "0.34782608695652173\n",
      "0.4594594594594595\n",
      "0.6071428571428571\n",
      "0.6\n",
      "0.48717948717948717\n",
      "0.2807017543859649\n",
      "0.5238095238095238\n",
      "0.4528301886792453\n",
      "0.3125\n",
      "0.5121951219512195\n",
      "0.5142857142857142\n",
      "0.40384615384615385\n",
      "0.3695652173913043\n",
      "0.6857142857142857\n",
      "0.6756756756756757\n",
      "0.3055555555555556\n",
      "0.42105263157894735\n",
      "0.4864864864864865\n",
      "0.44\n",
      "0.4358974358974359\n",
      "0.6216216216216216\n",
      "0.5531914893617021\n",
      "0.5\n",
      "0.34\n",
      "0.47368421052631576\n",
      "0.8571428571428571\n",
      "0.375\n",
      "0.4\n",
      "0.423728813559322\n",
      "0.4166666666666667\n",
      "0.4\n",
      "0.3333333333333333\n",
      "0.41025641025641024\n",
      "0.5161290322580645\n",
      "0.6538461538461539\n",
      "0.4444444444444444\n",
      "0.4722222222222222\n",
      "0.5925925925925926\n",
      "1.0\n",
      "0.5\n",
      "0.3902439024390244\n",
      "0.39473684210526316\n",
      "0.5\n",
      "0.6086956521739131\n",
      "0.4358974358974359\n",
      "0.4\n",
      "0.4473684210526316\n",
      "0.34146341463414637\n",
      "0.2608695652173913\n",
      "0.32432432432432434\n",
      "0.4\n",
      "0.8275862068965517\n",
      "0.8181818181818182\n",
      "0.5428571428571428\n",
      "0.3333333333333333\n",
      "0.3333333333333333\n",
      "0.30357142857142855\n",
      "0.6\n",
      "0.46153846153846156\n",
      "0.35555555555555557\n",
      "0.4722222222222222\n",
      "0.53125\n",
      "0.45454545454545453\n",
      "0.3695652173913043\n",
      "0.5306122448979592\n",
      "0.5166666666666667\n",
      "0.2909090909090909\n",
      "0.39473684210526316\n",
      "0.56\n",
      "0.5483870967741935\n",
      "0.7307692307692307\n",
      "0.43243243243243246\n",
      "0.2807017543859649\n",
      "0.4358974358974359\n",
      "0.4146341463414634\n",
      "0.4\n",
      "0.27586206896551724\n",
      "0.43243243243243246\n",
      "0.24561403508771928\n",
      "0.6216216216216216\n",
      "0.4473684210526316\n",
      "0.4\n",
      "0.42105263157894735\n",
      "0.47058823529411764\n",
      "0.33962264150943394\n",
      "0.5151515151515151\n",
      "0.4067796610169492\n",
      "0.6666666666666666\n",
      "0.3076923076923077\n",
      "0.37777777777777777\n",
      "0.7619047619047619\n",
      "0.8444444444444444\n",
      "0.625\n",
      "0.47058823529411764\n",
      "0.4358974358974359\n",
      "0.64\n",
      "0.47368421052631576\n",
      "0.43243243243243246\n",
      "0.46875\n",
      "0.7666666666666667\n",
      "0.71875\n",
      "0.5416666666666666\n",
      "0.5405405405405406\n",
      "0.3902439024390244\n",
      "0.41025641025641024\n",
      "0.4\n",
      "0.39622641509433965\n",
      "0.3\n",
      "0.8181818181818182\n",
      "0.8275862068965517\n",
      "0.84\n",
      "0.7297297297297297\n",
      "0.6756756756756757\n",
      "0.72\n",
      "0.631578947368421\n",
      "0.30952380952380953\n",
      "0.32608695652173914\n",
      "0.4\n",
      "0.391304347826087\n",
      "0.6\n",
      "0.8709677419354839\n",
      "0.8709677419354839\n",
      "0.7586206896551724\n",
      "0.696969696969697\n",
      "0.3888888888888889\n",
      "0.4444444444444444\n",
      "0.4444444444444444\n"
     ]
    }
   ],
   "source": [
    "for st in stap:\n",
    "    #does this dow what we think?\n",
    "    print (pylcs.lcs2(sc,st) / len(st))"
   ]
  },
  {
   "cell_type": "code",
   "execution_count": 58,
   "metadata": {},
   "outputs": [
    {
     "name": "stdout",
     "output_type": "stream",
     "text": [
      "Help on module pylcs:\n",
      "\n",
      "NAME\n",
      "    pylcs\n",
      "\n",
      "FUNCTIONS\n",
      "    edit_distance(...) method of builtins.PyCapsule instance\n",
      "        edit_distance(arg0: str, arg1: str) -> int\n",
      "        \n",
      "        \n",
      "        Same As levenshtein_distance(): Levenshtein Distance of Two Strings\n",
      "    \n",
      "    edit_distance_of_list(...) method of builtins.PyCapsule instance\n",
      "        edit_distance_of_list(arg0: str, arg1: List[str]) -> List[int]\n",
      "        \n",
      "        \n",
      "        Levenshtein Distance of one string to a list of strings\n",
      "    \n",
      "    lcs(...) method of builtins.PyCapsule instance\n",
      "        lcs(arg0: str, arg1: str) -> int\n",
      "        \n",
      "        \n",
      "        Longest common subsequence\n",
      "    \n",
      "    lcs2(...) method of builtins.PyCapsule instance\n",
      "        lcs2(arg0: str, arg1: str) -> int\n",
      "        \n",
      "        \n",
      "        Longest common substring\n",
      "    \n",
      "    lcs2_of_list(...) method of builtins.PyCapsule instance\n",
      "        lcs2_of_list(arg0: str, arg1: List[str]) -> List[int]\n",
      "        \n",
      "        \n",
      "        Longest common substring of list\n",
      "    \n",
      "    lcs_of_list(...) method of builtins.PyCapsule instance\n",
      "        lcs_of_list(arg0: str, arg1: List[str]) -> List[int]\n",
      "        \n",
      "        \n",
      "        Longest common subsequence of list\n",
      "    \n",
      "    levenshtein_distance(...) method of builtins.PyCapsule instance\n",
      "        levenshtein_distance(arg0: str, arg1: str) -> int\n",
      "        \n",
      "        \n",
      "        Levenshtein Distance of Two Strings\n",
      "    \n",
      "    levenshtein_distance_of_list(...) method of builtins.PyCapsule instance\n",
      "        levenshtein_distance_of_list(arg0: str, arg1: List[str]) -> List[int]\n",
      "        \n",
      "        \n",
      "        Levenshtein Distance of one string to a list of strings\n",
      "\n",
      "FILE\n",
      "    /home/wtk23/anaconda3/lib/python3.7/site-packages/pylcs.cpython-37m-x86_64-linux-gnu.so\n",
      "\n",
      "\n"
     ]
    }
   ],
   "source": [
    "help(pylcs)"
   ]
  },
  {
   "cell_type": "code",
   "execution_count": null,
   "metadata": {},
   "outputs": [],
   "source": []
  },
  {
   "cell_type": "code",
   "execution_count": null,
   "metadata": {},
   "outputs": [],
   "source": []
  },
  {
   "cell_type": "code",
   "execution_count": null,
   "metadata": {},
   "outputs": [],
   "source": []
  },
  {
   "cell_type": "code",
   "execution_count": null,
   "metadata": {},
   "outputs": [],
   "source": []
  },
  {
   "cell_type": "code",
   "execution_count": null,
   "metadata": {},
   "outputs": [],
   "source": []
  },
  {
   "cell_type": "code",
   "execution_count": null,
   "metadata": {},
   "outputs": [],
   "source": []
  },
  {
   "cell_type": "code",
   "execution_count": null,
   "metadata": {},
   "outputs": [],
   "source": []
  },
  {
   "cell_type": "code",
   "execution_count": null,
   "metadata": {},
   "outputs": [],
   "source": []
  }
 ],
 "metadata": {
  "kernelspec": {
   "display_name": "Python 3",
   "language": "python",
   "name": "python3"
  },
  "language_info": {
   "codemirror_mode": {
    "name": "ipython",
    "version": 3
   },
   "file_extension": ".py",
   "mimetype": "text/x-python",
   "name": "python",
   "nbconvert_exporter": "python",
   "pygments_lexer": "ipython3",
   "version": "3.7.5"
  }
 },
 "nbformat": 4,
 "nbformat_minor": 2
}
